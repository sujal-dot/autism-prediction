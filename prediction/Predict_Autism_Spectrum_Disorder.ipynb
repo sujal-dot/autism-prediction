{
  "cells": [
    {
      "cell_type": "markdown",
      "metadata": {
        "id": "LnPbntVRnfvV"
      },
      "source": [
        "Importing the Dependencies"
      ]
    },
    {
      "cell_type": "code",
      "execution_count": 43,
      "metadata": {
        "id": "-71UtHzNVWjB"
      },
      "outputs": [],
      "source": [
        "import pandas as pd\n",
        "import numpy as np\n",
        "import seaborn as sns\n",
        "import matplotlib.pyplot as plt\n",
        "from sklearn.model_selection import train_test_split\n",
        "from sklearn.preprocessing import StandardScaler, LabelEncoder\n",
        "from sklearn.ensemble import RandomForestClassifier\n",
        "from sklearn.metrics import classification_report, confusion_matrix, accuracy_score\n"
      ]
    },
    {
      "cell_type": "markdown",
      "metadata": {
        "id": "bmfOfG8joBBy"
      },
      "source": [
        "Data Collection and Analysis\n",
        "\n",
        "PIMA Diabetes Dataset"
      ]
    },
    {
      "cell_type": "code",
      "execution_count": 45,
      "metadata": {
        "colab": {
          "base_uri": "https://localhost:8080/"
        },
        "id": "Xpw6Mj_pn_TL",
        "outputId": "82bd2c0a-42e1-4cc4-c771-091246868aa4"
      },
      "outputs": [
        {
          "name": "stdout",
          "output_type": "stream",
          "text": [
            "   A1_Score  A2_Score  A3_Score  A4_Score  A5_Score  A6_Score  A7_Score  \\\n",
            "0         1         1         1         1         0         0         1   \n",
            "1         1         1         0         1         0         0         0   \n",
            "2         1         1         0         1         1         0         1   \n",
            "3         1         1         0         1         0         0         1   \n",
            "4         1         0         0         0         0         0         0   \n",
            "\n",
            "   A8_Score  A9_Score  A10_Score  ... gender       ethnicity jundice austim  \\\n",
            "0         1         0          0  ...      f  White-European      no     no   \n",
            "1         1         0          1  ...      m          Latino      no    yes   \n",
            "2         1         1          1  ...      m          Latino     yes    yes   \n",
            "3         1         0          1  ...      f  White-European      no    yes   \n",
            "4         1         0          0  ...      f               ?      no     no   \n",
            "\n",
            "     contry_of_res used_app_before result       age_desc relation Class/ASD  \n",
            "0  'United States'              no      6  '18 and more'     Self        NO  \n",
            "1           Brazil              no      5  '18 and more'     Self        NO  \n",
            "2            Spain              no      8  '18 and more'   Parent       YES  \n",
            "3  'United States'              no      6  '18 and more'     Self        NO  \n",
            "4            Egypt              no      2  '18 and more'        ?        NO  \n",
            "\n",
            "[5 rows x 21 columns]\n",
            "<class 'pandas.core.frame.DataFrame'>\n",
            "RangeIndex: 704 entries, 0 to 703\n",
            "Data columns (total 21 columns):\n",
            " #   Column           Non-Null Count  Dtype \n",
            "---  ------           --------------  ----- \n",
            " 0   A1_Score         704 non-null    int64 \n",
            " 1   A2_Score         704 non-null    int64 \n",
            " 2   A3_Score         704 non-null    int64 \n",
            " 3   A4_Score         704 non-null    int64 \n",
            " 4   A5_Score         704 non-null    int64 \n",
            " 5   A6_Score         704 non-null    int64 \n",
            " 6   A7_Score         704 non-null    int64 \n",
            " 7   A8_Score         704 non-null    int64 \n",
            " 8   A9_Score         704 non-null    int64 \n",
            " 9   A10_Score        704 non-null    int64 \n",
            " 10  age              704 non-null    object\n",
            " 11  gender           704 non-null    object\n",
            " 12  ethnicity        704 non-null    object\n",
            " 13  jundice          704 non-null    object\n",
            " 14  austim           704 non-null    object\n",
            " 15  contry_of_res    704 non-null    object\n",
            " 16  used_app_before  704 non-null    object\n",
            " 17  result           704 non-null    int64 \n",
            " 18  age_desc         704 non-null    object\n",
            " 19  relation         704 non-null    object\n",
            " 20  Class/ASD        704 non-null    object\n",
            "dtypes: int64(11), object(10)\n",
            "memory usage: 115.6+ KB\n",
            "None\n",
            "         A1_Score    A2_Score    A3_Score    A4_Score    A5_Score    A6_Score  \\\n",
            "count  704.000000  704.000000  704.000000  704.000000  704.000000  704.000000   \n",
            "mean     0.721591    0.453125    0.457386    0.495739    0.498580    0.284091   \n",
            "std      0.448535    0.498152    0.498535    0.500337    0.500353    0.451301   \n",
            "min      0.000000    0.000000    0.000000    0.000000    0.000000    0.000000   \n",
            "25%      0.000000    0.000000    0.000000    0.000000    0.000000    0.000000   \n",
            "50%      1.000000    0.000000    0.000000    0.000000    0.000000    0.000000   \n",
            "75%      1.000000    1.000000    1.000000    1.000000    1.000000    1.000000   \n",
            "max      1.000000    1.000000    1.000000    1.000000    1.000000    1.000000   \n",
            "\n",
            "         A7_Score    A8_Score    A9_Score   A10_Score      result  \n",
            "count  704.000000  704.000000  704.000000  704.000000  704.000000  \n",
            "mean     0.417614    0.649148    0.323864    0.573864    4.875000  \n",
            "std      0.493516    0.477576    0.468281    0.494866    2.501493  \n",
            "min      0.000000    0.000000    0.000000    0.000000    0.000000  \n",
            "25%      0.000000    0.000000    0.000000    0.000000    3.000000  \n",
            "50%      0.000000    1.000000    0.000000    1.000000    4.000000  \n",
            "75%      1.000000    1.000000    1.000000    1.000000    7.000000  \n",
            "max      1.000000    1.000000    1.000000    1.000000   10.000000  \n"
          ]
        }
      ],
      "source": [
        "\n",
        "# Load the dataset\n",
        "data = pd.read_csv('/Users/sujal/Downloads/Autism Screening.csv')\n",
        "\n",
        "# Check basic information\n",
        "print(data.head())\n",
        "print(data.info())\n",
        "print(data.describe())\n"
      ]
    },
    {
      "cell_type": "code",
      "execution_count": 46,
      "metadata": {
        "colab": {
          "base_uri": "https://localhost:8080/",
          "height": 322
        },
        "id": "-tjO09ncovoh",
        "outputId": "697701a7-d81c-4986-9f62-12d9bcd4013f"
      },
      "outputs": [
        {
          "data": {
            "text/html": [
              "<div>\n",
              "<style scoped>\n",
              "    .dataframe tbody tr th:only-of-type {\n",
              "        vertical-align: middle;\n",
              "    }\n",
              "\n",
              "    .dataframe tbody tr th {\n",
              "        vertical-align: top;\n",
              "    }\n",
              "\n",
              "    .dataframe thead th {\n",
              "        text-align: right;\n",
              "    }\n",
              "</style>\n",
              "<table border=\"1\" class=\"dataframe\">\n",
              "  <thead>\n",
              "    <tr style=\"text-align: right;\">\n",
              "      <th></th>\n",
              "      <th>A1_Score</th>\n",
              "      <th>A2_Score</th>\n",
              "      <th>A3_Score</th>\n",
              "      <th>A4_Score</th>\n",
              "      <th>A5_Score</th>\n",
              "      <th>A6_Score</th>\n",
              "      <th>A7_Score</th>\n",
              "      <th>A8_Score</th>\n",
              "      <th>A9_Score</th>\n",
              "      <th>A10_Score</th>\n",
              "      <th>...</th>\n",
              "      <th>gender</th>\n",
              "      <th>ethnicity</th>\n",
              "      <th>jundice</th>\n",
              "      <th>austim</th>\n",
              "      <th>contry_of_res</th>\n",
              "      <th>used_app_before</th>\n",
              "      <th>result</th>\n",
              "      <th>age_desc</th>\n",
              "      <th>relation</th>\n",
              "      <th>Outcome</th>\n",
              "    </tr>\n",
              "  </thead>\n",
              "  <tbody>\n",
              "    <tr>\n",
              "      <th>0</th>\n",
              "      <td>1</td>\n",
              "      <td>1</td>\n",
              "      <td>1</td>\n",
              "      <td>1</td>\n",
              "      <td>0</td>\n",
              "      <td>0</td>\n",
              "      <td>1</td>\n",
              "      <td>1</td>\n",
              "      <td>0</td>\n",
              "      <td>0</td>\n",
              "      <td>...</td>\n",
              "      <td>f</td>\n",
              "      <td>White-European</td>\n",
              "      <td>no</td>\n",
              "      <td>no</td>\n",
              "      <td>'United States'</td>\n",
              "      <td>no</td>\n",
              "      <td>6</td>\n",
              "      <td>'18 and more'</td>\n",
              "      <td>Self</td>\n",
              "      <td>NaN</td>\n",
              "    </tr>\n",
              "    <tr>\n",
              "      <th>1</th>\n",
              "      <td>1</td>\n",
              "      <td>1</td>\n",
              "      <td>0</td>\n",
              "      <td>1</td>\n",
              "      <td>0</td>\n",
              "      <td>0</td>\n",
              "      <td>0</td>\n",
              "      <td>1</td>\n",
              "      <td>0</td>\n",
              "      <td>1</td>\n",
              "      <td>...</td>\n",
              "      <td>m</td>\n",
              "      <td>Latino</td>\n",
              "      <td>no</td>\n",
              "      <td>yes</td>\n",
              "      <td>Brazil</td>\n",
              "      <td>no</td>\n",
              "      <td>5</td>\n",
              "      <td>'18 and more'</td>\n",
              "      <td>Self</td>\n",
              "      <td>NaN</td>\n",
              "    </tr>\n",
              "    <tr>\n",
              "      <th>2</th>\n",
              "      <td>1</td>\n",
              "      <td>1</td>\n",
              "      <td>0</td>\n",
              "      <td>1</td>\n",
              "      <td>1</td>\n",
              "      <td>0</td>\n",
              "      <td>1</td>\n",
              "      <td>1</td>\n",
              "      <td>1</td>\n",
              "      <td>1</td>\n",
              "      <td>...</td>\n",
              "      <td>m</td>\n",
              "      <td>Latino</td>\n",
              "      <td>yes</td>\n",
              "      <td>yes</td>\n",
              "      <td>Spain</td>\n",
              "      <td>no</td>\n",
              "      <td>8</td>\n",
              "      <td>'18 and more'</td>\n",
              "      <td>Parent</td>\n",
              "      <td>NaN</td>\n",
              "    </tr>\n",
              "    <tr>\n",
              "      <th>3</th>\n",
              "      <td>1</td>\n",
              "      <td>1</td>\n",
              "      <td>0</td>\n",
              "      <td>1</td>\n",
              "      <td>0</td>\n",
              "      <td>0</td>\n",
              "      <td>1</td>\n",
              "      <td>1</td>\n",
              "      <td>0</td>\n",
              "      <td>1</td>\n",
              "      <td>...</td>\n",
              "      <td>f</td>\n",
              "      <td>White-European</td>\n",
              "      <td>no</td>\n",
              "      <td>yes</td>\n",
              "      <td>'United States'</td>\n",
              "      <td>no</td>\n",
              "      <td>6</td>\n",
              "      <td>'18 and more'</td>\n",
              "      <td>Self</td>\n",
              "      <td>NaN</td>\n",
              "    </tr>\n",
              "    <tr>\n",
              "      <th>4</th>\n",
              "      <td>1</td>\n",
              "      <td>0</td>\n",
              "      <td>0</td>\n",
              "      <td>0</td>\n",
              "      <td>0</td>\n",
              "      <td>0</td>\n",
              "      <td>0</td>\n",
              "      <td>1</td>\n",
              "      <td>0</td>\n",
              "      <td>0</td>\n",
              "      <td>...</td>\n",
              "      <td>f</td>\n",
              "      <td>?</td>\n",
              "      <td>no</td>\n",
              "      <td>no</td>\n",
              "      <td>Egypt</td>\n",
              "      <td>no</td>\n",
              "      <td>2</td>\n",
              "      <td>'18 and more'</td>\n",
              "      <td>?</td>\n",
              "      <td>NaN</td>\n",
              "    </tr>\n",
              "  </tbody>\n",
              "</table>\n",
              "<p>5 rows × 21 columns</p>\n",
              "</div>"
            ],
            "text/plain": [
              "   A1_Score  A2_Score  A3_Score  A4_Score  A5_Score  A6_Score  A7_Score  \\\n",
              "0         1         1         1         1         0         0         1   \n",
              "1         1         1         0         1         0         0         0   \n",
              "2         1         1         0         1         1         0         1   \n",
              "3         1         1         0         1         0         0         1   \n",
              "4         1         0         0         0         0         0         0   \n",
              "\n",
              "   A8_Score  A9_Score  A10_Score  ...  gender       ethnicity jundice austim  \\\n",
              "0         1         0          0  ...       f  White-European      no     no   \n",
              "1         1         0          1  ...       m          Latino      no    yes   \n",
              "2         1         1          1  ...       m          Latino     yes    yes   \n",
              "3         1         0          1  ...       f  White-European      no    yes   \n",
              "4         1         0          0  ...       f               ?      no     no   \n",
              "\n",
              "     contry_of_res used_app_before result       age_desc relation Outcome  \n",
              "0  'United States'              no      6  '18 and more'     Self     NaN  \n",
              "1           Brazil              no      5  '18 and more'     Self     NaN  \n",
              "2            Spain              no      8  '18 and more'   Parent     NaN  \n",
              "3  'United States'              no      6  '18 and more'     Self     NaN  \n",
              "4            Egypt              no      2  '18 and more'        ?     NaN  \n",
              "\n",
              "[5 rows x 21 columns]"
            ]
          },
          "execution_count": 46,
          "metadata": {},
          "output_type": "execute_result"
        }
      ],
      "source": [
        "# printing the first 5 rows of the dataset\n",
        "autism_dataset.head()"
      ]
    },
    {
      "cell_type": "code",
      "execution_count": 47,
      "metadata": {
        "colab": {
          "base_uri": "https://localhost:8080/"
        },
        "id": "lynParo6pEMB",
        "outputId": "6207789d-5c06-4b2f-f30e-9b5a6ac5ec27"
      },
      "outputs": [
        {
          "name": "stdout",
          "output_type": "stream",
          "text": [
            "A1_Score           0\n",
            "A2_Score           0\n",
            "A3_Score           0\n",
            "A4_Score           0\n",
            "A5_Score           0\n",
            "A6_Score           0\n",
            "A7_Score           0\n",
            "A8_Score           0\n",
            "A9_Score           0\n",
            "A10_Score          0\n",
            "age                0\n",
            "gender             0\n",
            "ethnicity          0\n",
            "jundice            0\n",
            "austim             0\n",
            "contry_of_res      0\n",
            "used_app_before    0\n",
            "result             0\n",
            "age_desc           0\n",
            "relation           0\n",
            "Class/ASD          0\n",
            "dtype: int64\n"
          ]
        }
      ],
      "source": [
        "# number of rows and Columns in this dataset\n",
        "# Check for missing values\n",
        "print(data.isnull().sum())\n",
        "\n",
        "# Drop rows with too many missing values or fill missing ones\n",
        "data = data.dropna()  # Or use data.fillna(data.mean())\n"
      ]
    },
    {
      "cell_type": "code",
      "execution_count": 49,
      "metadata": {
        "colab": {
          "base_uri": "https://localhost:8080/",
          "height": 416
        },
        "id": "3NDJOlrEpmoL",
        "outputId": "7ca2c1cc-490b-4346-aa45-f6716b643cdf"
      },
      "outputs": [],
      "source": [
        "\n",
        "# Initialize LabelEncoder\n",
        "label_enc = LabelEncoder()\n",
        "\n",
        "# Encode categorical variables\n",
        "categorical_cols = ['gender', 'ethnicity', 'jundice', 'austim', \n",
        "                     'used_app_before', 'relation', 'contry_of_res']\n",
        "\n",
        "for col in categorical_cols:\n",
        "    data[col] = label_enc.fit_transform(data[col].astype(str))\n"
      ]
    },
    {
      "cell_type": "code",
      "execution_count": 50,
      "metadata": {
        "colab": {
          "base_uri": "https://localhost:8080/"
        },
        "id": "LrpHzaGpp5dQ",
        "outputId": "e6f30e77-4b00-45f3-f802-3c56cbf8b364"
      },
      "outputs": [],
      "source": [
        "# Define X and y\n",
        "X = data.drop(columns=['Class/ASD', 'age_desc', 'result'])  # Drop irrelevant columns\n",
        "y = data['Class/ASD']  # Target variable\n",
        "\n",
        "# Encode target variable\n",
        "y = label_enc.fit_transform(y)  # YES=1, NO=0\n"
      ]
    },
    {
      "cell_type": "markdown",
      "metadata": {
        "id": "cB1qRaNcqeh5"
      },
      "source": [
        "0 --> Not with ASD\n",
        "\n",
        "1 --> With ASD"
      ]
    },
    {
      "cell_type": "code",
      "execution_count": 53,
      "metadata": {},
      "outputs": [
        {
          "data": {
            "image/png": "[encoded data removed]",
            "text/plain": [
              "<Figure size 640x480 with 1 Axes>"
            ]
          },
          "metadata": {},
          "output_type": "display_data"
        },
        {
          "name": "stdout",
          "output_type": "stream",
          "text": [
            "    age\n",
            "0    21\n",
            "1    61\n",
            "2    28\n",
            "3    68\n",
            "4    39\n",
            "..  ...\n",
            "95   29\n",
            "96   35\n",
            "97   61\n",
            "98   44\n",
            "99   53\n",
            "\n",
            "[100 rows x 1 columns]\n"
          ]
        }
      ],
      "source": [
        "# Plot boxplot for age or other numeric variables\n",
        "import pandas as pd\n",
        "import numpy as np\n",
        "import seaborn as sns\n",
        "import matplotlib.pyplot as plt\n",
        "\n",
        "# Sample Data (Replace this with your actual dataset)\n",
        "data = pd.DataFrame({'age': np.random.randint(10, 80, 100)})\n",
        "\n",
        "# Plot boxplot\n",
        "sns.boxplot(x=data['age'])  # Corrected argument\n",
        "plt.show()\n",
        "\n",
        "# Remove outliers using IQR\n",
        "Q1 = data['age'].quantile(0.25)\n",
        "Q3 = data['age'].quantile(0.75)\n",
        "IQR = Q3 - Q1\n",
        "\n",
        "# Filtering data\n",
        "filtered_data = data[~((data['age'] < (Q1 - 1.5 * IQR)) | (data['age'] > (Q3 + 1.5 * IQR)))]\n",
        "\n",
        "# Reset index after filtering\n",
        "filtered_data = filtered_data.reset_index(drop=True)\n",
        "\n",
        "print(filtered_data)\n",
        "\n",
        "\n",
        "\n"
      ]
    },
    {
      "cell_type": "code",
      "execution_count": 54,
      "metadata": {},
      "outputs": [],
      "source": [
        "X_train, X_test, y_train, y_test = train_test_split(X, y, test_size=0.2, random_state=42)\n",
        "\n"
      ]
    },
    {
      "cell_type": "code",
      "execution_count": 61,
      "metadata": {},
      "outputs": [
        {
          "name": "stdout",
          "output_type": "stream",
          "text": [
            "Data types before processing:\n",
            " 0     float64\n",
            "1     float64\n",
            "2     float64\n",
            "3     float64\n",
            "4     float64\n",
            "5     float64\n",
            "6     float64\n",
            "7     float64\n",
            "8     float64\n",
            "9     float64\n",
            "10    float64\n",
            "11    float64\n",
            "12    float64\n",
            "13    float64\n",
            "14    float64\n",
            "15    float64\n",
            "16    float64\n",
            "17    float64\n",
            "dtype: object\n",
            "\n",
            "First few rows of X_train:\n",
            "          0         1         2         3         4         5         6   \\\n",
            "0  0.631666  1.091516  1.075961  1.012557 -1.023448 -0.612372 -0.836660   \n",
            "1 -1.583114 -0.916157 -0.929402 -0.987599 -1.023448 -0.612372  1.195229   \n",
            "2  0.631666 -0.916157  1.075961  1.012557  0.977089  1.632993  1.195229   \n",
            "3  0.631666  1.091516 -0.929402  1.012557  0.977089 -0.612372 -0.836660   \n",
            "4 -1.583114  1.091516 -0.929402 -0.987599  0.977089  1.632993 -0.836660   \n",
            "\n",
            "         7         8         9         10        11        12        13  \\\n",
            "0  0.724194 -0.701442 -1.164965  0.719098  0.980581  0.193926 -0.339571   \n",
            "1  0.724194 -0.701442  0.858395 -0.119252 -1.019804  0.572994 -0.339571   \n",
            "2  0.724194  1.425634  0.858395  0.383758 -1.019804 -0.564210 -0.339571   \n",
            "3  0.724194  1.425634  0.858395  0.104308 -1.019804  0.952061 -0.339571   \n",
            "4 -1.380846  1.425634  0.858395  1.222109  0.980581  0.193926 -0.339571   \n",
            "\n",
            "         14        15        16        17  \n",
            "0 -0.401859  0.359568 -0.147844 -2.181975  \n",
            "1 -0.401859 -0.474158 -0.147844  0.535202  \n",
            "2  2.488435  1.412695 -0.147844  0.535202  \n",
            "3 -0.401859 -0.605798 -0.147844  0.535202  \n",
            "4 -0.401859  0.052406 -0.147844 -2.181975  \n",
            "\n",
            "Non-numeric columns: []\n",
            "\n",
            "Missing values per column before filling:\n",
            " 0     0\n",
            "1     0\n",
            "2     0\n",
            "3     0\n",
            "4     0\n",
            "5     0\n",
            "6     0\n",
            "7     0\n",
            "8     0\n",
            "9     0\n",
            "10    0\n",
            "11    0\n",
            "12    0\n",
            "13    0\n",
            "14    0\n",
            "15    0\n",
            "16    0\n",
            "17    0\n",
            "dtype: int64\n",
            "\n",
            "Data preprocessing completed successfully!\n"
          ]
        }
      ],
      "source": [
        "import pandas as pd\n",
        "import numpy as np\n",
        "from sklearn.preprocessing import StandardScaler\n",
        "\n",
        "# Convert X_train to DataFrame if it's a NumPy array\n",
        "if isinstance(X_train, np.ndarray):\n",
        "    X_train = pd.DataFrame(X_train)  \n",
        "if isinstance(X_test, np.ndarray):\n",
        "    X_test = pd.DataFrame(X_test)  \n",
        "\n",
        "# Check data types before scaling\n",
        "print(\"Data types before processing:\\n\", X_train.dtypes)\n",
        "print(\"\\nFirst few rows of X_train:\\n\", X_train.head())\n",
        "\n",
        "# Identify non-numeric columns\n",
        "non_numeric = X_train.select_dtypes(include=['object']).columns\n",
        "print(\"\\nNon-numeric columns:\", non_numeric.tolist())\n",
        "\n",
        "# Convert non-numeric columns to numeric (replace errors with NaN)\n",
        "for col in non_numeric:\n",
        "    print(f\"\\nUnique values in {col}:\", X_train[col].unique()[:10])\n",
        "    X_train[col] = pd.to_numeric(X_train[col], errors='coerce')\n",
        "    X_test[col] = pd.to_numeric(X_test[col], errors='coerce')\n",
        "\n",
        "# Check for missing values\n",
        "print(\"\\nMissing values per column before filling:\\n\", X_train.isnull().sum())\n",
        "\n",
        "# Fill missing values with column mean\n",
        "X_train.fillna(X_train.mean(numeric_only=True), inplace=True)\n",
        "X_test.fillna(X_test.mean(numeric_only=True), inplace=True)\n",
        "\n",
        "# Apply StandardScaler\n",
        "scaler = StandardScaler()\n",
        "X_train_scaled = scaler.fit_transform(X_train)\n",
        "X_test_scaled = scaler.transform(X_test)\n",
        "\n",
        "# Convert back to DataFrame for readability\n",
        "X_train = pd.DataFrame(X_train_scaled, columns=X_train.columns)\n",
        "X_test = pd.DataFrame(X_test_scaled, columns=X_test.columns)\n",
        "\n",
        "print(\"\\nData preprocessing completed successfully!\")\n"
      ]
    },
    {
      "cell_type": "code",
      "execution_count": 62,
      "metadata": {},
      "outputs": [],
      "source": [
        "# Initialize scaler\n",
        "scaler = StandardScaler()\n",
        "\n",
        "# Fit and transform training data\n",
        "X_train = scaler.fit_transform(X_train)\n",
        "X_test = scaler.transform(X_test)\n",
        "\n"
      ]
    },
    {
      "cell_type": "code",
      "execution_count": 71,
      "metadata": {},
      "outputs": [
        {
          "name": "stdout",
          "output_type": "stream",
          "text": [
            "Final X_train shape: (561, 18)\n",
            "Final y_train shape: (561,)\n",
            "Model training successful!\n"
          ]
        }
      ],
      "source": [
        "import pandas as pd\n",
        "\n",
        "X_train = pd.DataFrame(X_train)  # Convert back to DataFrame if needed\n",
        "y_train = y_train[:X_train.shape[0]]  # Ensure both have the same number of rows\n",
        "print(\"Final X_train shape:\", X_train.shape)\n",
        "print(\"Final y_train shape:\", y_train.shape)\n",
        "from sklearn.ensemble import RandomForestClassifier\n",
        "\n",
        "model = RandomForestClassifier(n_estimators=100, random_state=42)\n",
        "model.fit(X_train, y_train)\n",
        "\n",
        "print(\"Model training successful!\")\n",
        "\n"
      ]
    },
    {
      "cell_type": "code",
      "execution_count": 72,
      "metadata": {},
      "outputs": [],
      "source": [
        "# Make predictions\n",
        "y_pred = model.predict(X_test)\n",
        "\n"
      ]
    },
    {
      "cell_type": "code",
      "execution_count": 73,
      "metadata": {},
      "outputs": [
        {
          "name": "stdout",
          "output_type": "stream",
          "text": [
            "Accuracy: 98.58%\n"
          ]
        },
        {
          "data": {
            "image/png": "[encoded data removed]",
            "text/plain": [
              "<Figure size 640x480 with 2 Axes>"
            ]
          },
          "metadata": {},
          "output_type": "display_data"
        },
        {
          "name": "stdout",
          "output_type": "stream",
          "text": [
            "              precision    recall  f1-score   support\n",
            "\n",
            "           0       0.99      0.99      0.99       105\n",
            "           1       0.97      0.97      0.97        36\n",
            "\n",
            "    accuracy                           0.99       141\n",
            "   macro avg       0.98      0.98      0.98       141\n",
            "weighted avg       0.99      0.99      0.99       141\n",
            "\n"
          ]
        }
      ],
      "source": [
        "# Accuracy score\n",
        "accuracy = accuracy_score(y_test, y_pred)\n",
        "print(f\"Accuracy: {accuracy * 100:.2f}%\")\n",
        "\n",
        "# Confusion matrix\n",
        "conf_matrix = confusion_matrix(y_test, y_pred)\n",
        "sns.heatmap(conf_matrix, annot=True, cmap='Blues', fmt='g')\n",
        "plt.title('Confusion Matrix')\n",
        "plt.xlabel('Predicted')\n",
        "plt.ylabel('Actual')\n",
        "plt.show()\n",
        "\n",
        "# Classification report\n",
        "print(classification_report(y_test, y_pred))\n"
      ]
    },
    {
      "cell_type": "code",
      "execution_count": 74,
      "metadata": {},
      "outputs": [
        {
          "name": "stdout",
          "output_type": "stream",
          "text": [
            "{'max_depth': 20, 'min_samples_split': 5, 'n_estimators': 200}\n"
          ]
        }
      ],
      "source": [
        "from sklearn.model_selection import GridSearchCV\n",
        "\n",
        "# Define parameter grid\n",
        "param_grid = {\n",
        "    'n_estimators': [50, 100, 200],\n",
        "    'max_depth': [10, 20, None],\n",
        "    'min_samples_split': [2, 5, 10]\n",
        "}\n",
        "\n",
        "# Grid Search\n",
        "grid_search = GridSearchCV(RandomForestClassifier(), param_grid, cv=5)\n",
        "grid_search.fit(X_train, y_train)\n",
        "print(grid_search.best_params_)\n"
      ]
    },
    {
      "cell_type": "code",
      "execution_count": 75,
      "metadata": {},
      "outputs": [],
      "source": [
        "import joblib\n",
        "\n",
        "# Save model\n",
        "joblib.dump(model, 'autism_model.pkl')\n",
        "\n",
        "# Load model\n",
        "loaded_model = joblib.load('autism_model.pkl')\n"
      ]
    },
    {
      "cell_type": "code",
      "execution_count": 80,
      "metadata": {},
      "outputs": [
        {
          "name": "stdout",
          "output_type": "stream",
          "text": [
            "Number of features expected: 18\n"
          ]
        }
      ],
      "source": [
        "print(\"Number of features expected:\", X_train.shape[1])\n"
      ]
    },
    {
      "cell_type": "code",
      "execution_count": 81,
      "metadata": {},
      "outputs": [
        {
          "name": "stdout",
          "output_type": "stream",
          "text": [
            "The person is not with Autism Spectrum Disorder\n"
          ]
        }
      ],
      "source": [
        "import numpy as np\n",
        "\n",
        "def make_prediction(input_data, scaler, model):\n",
        "    try:\n",
        "        # Convert input data to numpy array\n",
        "        input_data_as_numpy_array = np.asarray(input_data, dtype=float)\n",
        "\n",
        "        # Check if input length matches expected features\n",
        "        if input_data_as_numpy_array.shape[0] != X_train.shape[1]:\n",
        "            return f\"Error: Expected {X_train.shape[1]} features, but got {input_data_as_numpy_array.shape[0]}.\"\n",
        "\n",
        "        # Reshape the array for a single instance\n",
        "        input_data_reshaped = input_data_as_numpy_array.reshape(1, -1)\n",
        "\n",
        "        # Standardize the input data\n",
        "        std_data = scaler.transform(input_data_reshaped)\n",
        "\n",
        "        # Make prediction\n",
        "        prediction = model.predict(std_data)\n",
        "\n",
        "        # Interpret the result\n",
        "        return (\n",
        "            \"The person is not with Autism Spectrum Disorder\"\n",
        "            if prediction[0] == 0\n",
        "            else \"The person is with Autism Spectrum Disorder\"\n",
        "        )\n",
        "\n",
        "    except Exception as e:\n",
        "        return f\"Error during prediction: {str(e)}\"\n",
        "\n",
        "# Example input data (Ensure 18 features)\n",
        "example_input = (0, 4, 0, 0, 0, 0, 0, 0, 1, 0, 1, 1, 0, 0, 0, 0, 0, 0)  # Adjusted to 18 values\n",
        "\n",
        "# Call the function with the trained scaler and model\n",
        "result = make_prediction(example_input, scaler, model)\n",
        "print(result)\n"
      ]
    },
    {
      "cell_type": "code",
      "execution_count": 84,
      "metadata": {},
      "outputs": [
        {
          "name": "stdout",
          "output_type": "stream",
          "text": [
            "Model and scaler saved!\n"
          ]
        }
      ],
      "source": [
        "import joblib\n",
        "\n",
        "# Save the model and scaler\n",
        "joblib.dump(model, 'autism_model.pkl')       # Save the trained model\n",
        "joblib.dump(scaler, 'scaler.pkl')            # Save the scaler\n",
        "\n",
        "print(\"Model and scaler saved!\")\n"
      ]
    }
  ],
  "metadata": {
    "colab": {
      "provenance": []
    },
    "kernelspec": {
      "display_name": "base",
      "language": "python",
      "name": "python3"
    },
    "language_info": {
      "codemirror_mode": {
        "name": "ipython",
        "version": 3
      },
      "file_extension": ".py",
      "mimetype": "text/x-python",
      "name": "python",
      "nbconvert_exporter": "python",
      "pygments_lexer": "ipython3",
      "version": "3.10.13"
    }
  },
  "nbformat": 4,
  "nbformat_minor": 0
}
